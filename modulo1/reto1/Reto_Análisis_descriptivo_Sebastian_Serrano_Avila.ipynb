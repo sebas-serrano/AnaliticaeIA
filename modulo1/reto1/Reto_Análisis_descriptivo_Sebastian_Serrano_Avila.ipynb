{
  "nbformat": 4,
  "nbformat_minor": 0,
  "metadata": {
    "colab": {
      "provenance": []
    },
    "kernelspec": {
      "name": "python3",
      "display_name": "Python 3"
    },
    "language_info": {
      "name": "python"
    }
  },
  "cells": [
    {
      "cell_type": "markdown",
      "source": [
        "# Reto: Analisis descriptivo"
      ],
      "metadata": {
        "id": "6Zjwxdrozk9R"
      }
    },
    {
      "cell_type": "markdown",
      "source": [
        "## Objetivo:\n",
        "\n",
        "\n",
        "*   Identificar y clasificar la información del problema con el que se desea\n",
        " trabajar.\n",
        "*   Integrar los conocimientos adquiridos para manipular la información disponible en un archivo de texto\n",
        "*   Sintetizar los datos disponibles a través de Python\n",
        "\n",
        "## Introducción\n",
        " Vamos a trabajr con la hipótesis de que con la información recabada podría explicar **el fenómeno de  deserción laboral** que tanto afecta en la actualidad a las empresas y organizaciones.\n",
        "\n",
        " En esta primera aproximación, queremos saber:\n",
        "\n",
        " a) Cuál es la edad promedio de los empleados durante en  las fechas en las que se recabo la información.\n",
        "\n",
        " b) La mayoría son hombres o mujeres.\n"
      ],
      "metadata": {
        "id": "eDM7qB6pnZxy"
      }
    },
    {
      "cell_type": "markdown",
      "source": [
        "## A continuación realizamos el paso a paso de la resolución.\n",
        "\n",
        "### Paso 1:\n",
        "Vamos a trabajar con el archivo Employees-1.csv.\n",
        "Lo primero que hacemos es definir una función que abra el archivo desde el entorno local."
      ],
      "metadata": {
        "id": "Opu78WBaszhR"
      }
    },
    {
      "cell_type": "code",
      "source": [
        "def abri_archivo():\n",
        "    \"\"\"\n",
        "    Este método abre el archivo CSV que contiene los datos de empleados.\n",
        "\n",
        "    Args:\n",
        "        No recibe argumentos.\n",
        "\n",
        "    Returns:\n",
        "        Retorna un manejador de archivo abierto (file handler) con el encabezado ya saltado.\n",
        "    \"\"\"\n",
        "    # Abrir un archivo con open() y close()\n",
        "    file_handler = open('Employees-1.csv')\n",
        "    # Saltamo el encabezado porque no lo necesitamos para trabajar\n",
        "    next(file_handler)\n",
        "    return file_handler"
      ],
      "metadata": {
        "id": "eHQvS3gFrIo-"
      },
      "execution_count": null,
      "outputs": []
    },
    {
      "cell_type": "markdown",
      "source": [
        "### Paso 2:\n",
        "Desarrollamos la función para calcular el promedio de edad de los empleados en base a los datos del archivo."
      ],
      "metadata": {
        "id": "CQT7EX3RtIDm"
      }
    },
    {
      "cell_type": "code",
      "source": [
        "def calcularPromedio(file_handler):\n",
        "    \"\"\"\n",
        "    Este método calcula la edad promedio de los empleados presentes en el archivo.\n",
        "\n",
        "    Args:\n",
        "        file_handler: Objeto de archivo abierto, apuntando a un archivo CSV ya sin encabezado.\n",
        "\n",
        "    Returns:\n",
        "        No retorna ningún valor. Imprime por pantalla:\n",
        "            - La suma total de edades válidas.\n",
        "            - La cantidad total de empleados considerados.\n",
        "            - La edad promedio redondeada con 2 decimales.\n",
        "    \"\"\"\n",
        "    edad_total = cantidad_empleados = 0\n",
        "    for linea in file_handler:\n",
        "        lst = linea.strip().split(',')\n",
        "        if lst[2] != 'NA' and lst[2] != '':\n",
        "            try:\n",
        "                edad = int(lst[2])\n",
        "                edad_total += edad\n",
        "                cantidad_empleados += 1\n",
        "            except ValueError:\n",
        "                continue\n",
        "\n",
        "    # Mostrar resultados\n",
        "    print(\"Sumatoria de Edad de toda la Muestra: \", edad_total)\n",
        "    print(\"Cantidad total de empleados: \", cantidad_empleados)\n",
        "    try:\n",
        "        promedio = round(edad_total / cantidad_empleados, 2)\n",
        "        print(\"Promedio de edad de la muestra: \", promedio)\n",
        "    except ZeroDivisionError:\n",
        "        print(\"No hay datos válidos para calcular promedio.\")\n",
        "\n",
        "\n",
        "    # Cerramos el archivo\n",
        "    file_handler.close()"
      ],
      "metadata": {
        "id": "aCxE77PQrchv"
      },
      "execution_count": null,
      "outputs": []
    },
    {
      "cell_type": "markdown",
      "source": [
        "### Paso 3:\n",
        "Desarrollamos la función para calcular si hay más mujeres que hombres en la muestra, o al revés."
      ],
      "metadata": {
        "id": "ljMPfa9fwstV"
      }
    },
    {
      "cell_type": "code",
      "source": [
        "def mayoriaMuestra(file_handler):\n",
        "    \"\"\"\n",
        "    Este método determina si hay más hombres o mujeres en la muestra del archivo.\n",
        "\n",
        "    Args:\n",
        "        file_handler: Objeto de archivo abierto, apuntando a un archivo CSV ya sin encabezado.\n",
        "\n",
        "    Returns:\n",
        "        No retorna ningún valor. Imprime por pantalla qué género es mayoritario\n",
        "        junto con el total de personas de cada uno.\n",
        "    \"\"\"\n",
        "    cantidad_hombres = cantidad_mujeres = 0\n",
        "    for linea in file_handler:\n",
        "        lst = linea.strip().split(',')\n",
        "        if lst[1] != 'NA' and lst[1] != '':\n",
        "            try:\n",
        "                genero = lst[1]\n",
        "                if genero == \"F\":\n",
        "                    cantidad_mujeres +=1\n",
        "                else:\n",
        "                    cantidad_hombres += 1\n",
        "            except ValueError:\n",
        "                continue\n",
        "    if cantidad_mujeres > cantidad_hombres:\n",
        "        print(f\"En la muestra hay \\033[1mmás mujeres\\033[0m que hombres con un total de \\033[1m{cantidad_mujeres}\\033[0m mujeres sobre \\033[1m{cantidad_hombres}\\033[0m hombres\")\n",
        "    elif cantidad_hombres > cantidad_mujeres:\n",
        "        print(f\"En la muestra hay \\033[1mmás hombres\\033[0m que mujeres con un total de \\033[1m{cantidad_hombres}\\033[0m hombres sobre \\033[1m{cantidad_mujeres}\\033[0m mujeres\")\n",
        "    else:\n",
        "        print(f\"En la muestra hay \\033[1migual cantidad\\033[0m de hombres y mujeres: \\033[1m{cantidad_hombres}\\033[0m\")"
      ],
      "metadata": {
        "id": "aCCEPcf2sdeL"
      },
      "execution_count": null,
      "outputs": []
    },
    {
      "cell_type": "markdown",
      "source": [
        "### Paso 4:\n",
        "Llamamos a la función para abrir el archivo y luego llamamos a la función para calcular el promedio de edad."
      ],
      "metadata": {
        "id": "dn6n4Y6zxU1Y"
      }
    },
    {
      "cell_type": "code",
      "source": [
        "file = abri_archivo()\n",
        "calcularPromedio(file)"
      ],
      "metadata": {
        "colab": {
          "base_uri": "https://localhost:8080/"
        },
        "id": "M10LRyUssfTf",
        "outputId": "124e56a3-fa6a-4105-8bc2-8efd8a40c190"
      },
      "execution_count": null,
      "outputs": [
        {
          "output_type": "stream",
          "name": "stdout",
          "text": [
            "Sumatoria de Edad de toda la Muestra:  261035\n",
            "Cantidad total de empleados:  6588\n",
            "Promedio de edad de la muestra:  39.62\n"
          ]
        }
      ]
    },
    {
      "cell_type": "markdown",
      "source": [
        "### Paso 5:\n",
        "Llamamos a la función para abrir nuevamente el archivo y luego llamamos a la función para verificar si hay más mujeres que hombres en la muestra.\n",
        "\n",
        "Se llama de nuevo a la función para cargar el archivo porque el cursor quedó al final tras la manipulación realizada en la función calcularPromedio.\n"
      ],
      "metadata": {
        "id": "HivFuGCCxWPi"
      }
    },
    {
      "cell_type": "code",
      "source": [
        "file = abri_archivo()\n",
        "mayoriaMuestra(file)"
      ],
      "metadata": {
        "colab": {
          "base_uri": "https://localhost:8080/"
        },
        "id": "a5D4ZBCxsggZ",
        "outputId": "a05b2973-7293-4db2-e9e4-b6babe7275a2"
      },
      "execution_count": null,
      "outputs": [
        {
          "output_type": "stream",
          "name": "stdout",
          "text": [
            "En la muestra hay \u001b[1mmás mujeres\u001b[0m que hombres con un total de \u001b[1m4114\u001b[0m mujeres sobre \u001b[1m2886\u001b[0m hombres\n"
          ]
        }
      ]
    },
    {
      "cell_type": "markdown",
      "source": [
        "## Explicación Final\n",
        "\n",
        "En este trabajo se desarrolló un script en Python para analizar los datos del archivo `Employees.csv`, cumpliendo con todos los requisitos planteados en el reto.\n",
        "\n",
        "El análisis se realizó sin el uso de librerías como `pandas`, `csv` o `numpy`, accediendo a los datos únicamente a través de la lectura línea por línea con `open()` y utilizando estructuras nativas de Python como listas, condicionales y excepciones.\n",
        "\n",
        "Se implementaron las siguientes funcionalidades:\n",
        "\n",
        "- Apertura del archivo y salto del encabezado.\n",
        "- Extracción y validación de los datos correspondientes a la **edad** y el **género** de cada empleado.\n",
        "- Cálculo del **promedio de edad**, con manejo de excepciones para evitar errores en caso de datos faltantes.\n",
        "- Conteo de empleados por género y comparación para determinar si hay **más mujeres o más hombres** en la muestra (o si hay igualdad).\n",
        "- Uso de texto en **negrita** en la salida para mejorar la visualización de los resultados.\n",
        "\n",
        "El código fue documentado paso a paso y cumple con todos los criterios técnicos y formales solicitados. El enlace a esta libreta fue compartido con los permisos adecuados para su revisión.\n"
      ],
      "metadata": {
        "id": "IuQREaVV3RaA"
      }
    }
  ]
}
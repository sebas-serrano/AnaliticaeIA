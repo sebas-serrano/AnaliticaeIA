{
  "nbformat": 4,
  "nbformat_minor": 0,
  "metadata": {
    "colab": {
      "provenance": []
    },
    "kernelspec": {
      "name": "python3",
      "display_name": "Python 3"
    },
    "language_info": {
      "name": "python"
    }
  },
  "cells": [
    {
      "cell_type": "markdown",
      "source": [
        "# Reto: Predicción de la Deserción Laboral en México"
      ],
      "metadata": {
        "id": "wvmkNftnSx7B"
      }
    },
    {
      "cell_type": "markdown",
      "source": [
        "## Objetivos:\n",
        "\n",
        "\n",
        "*   Recuperar información contenida en archivos a través de la plataforma Pandas.\n",
        "Seleccionar la información relevante dependiendo de las necesidades de procesamiento.\n",
        "*   Procesar los datos por medio de las funciones de las plataformas NumPy y Pandas para obtener resultados relevantes.\n",
        "*   Generar información útil a partir del procesamiento de otros datos.\n",
        "*   Almacenar los resultados con la información importante en archivos para su posterior uso.\n",
        "*   Prácticar e integrar los conceptos y habilidades obtenidas en cuanto a la recuperación, selección, procesamiento y almacenamiento de la información.\n",
        "\n",
        "\n",
        "\n",
        "\n"
      ],
      "metadata": {
        "id": "O-dDu9DOT0FX"
      }
    },
    {
      "cell_type": "markdown",
      "source": [
        "## Introduccion\n",
        "\n",
        "Vamos a trabajr con la hipótesis de que con la información recabada podría explicar el fenómeno de deserción laboral en Mexico.\n",
        "\n",
        "En esta primera aproximación, queremos saber:\n",
        "\n",
        "\n",
        "1.   El tiempo de servicio promedio de los trabajadores\n",
        "2.   El porcentaje de hombres y mujeres en el archivo\n",
        "3.   El tiempo máximo sin promoción de las personas que llevan más de 15 años de servicio\n",
        "4.   La edad promedio en la que ingresaron las personas a la empresa, genera una columna derivada mediante la formula Age - Time_of_service\n",
        "5.   Un dataframe con las columnas Employee_ID, Relationship, Decision_skill_process que sólo contenga los registros de mujeres, solteras y con compensación tipo 2 o 3.\n",
        "6.   Una columna derivada con el valor “on time” si cuando tuvo su última promoción tenía menos de 30 años. En caso contrario colocar el valor “out of time”\n",
        "\n",
        "\n"
      ],
      "metadata": {
        "id": "iyrTpA8YaadF"
      }
    },
    {
      "cell_type": "markdown",
      "source": [
        "## A continuación realizamos el paso a paso de la resolución.\n",
        "\n",
        "### Paso 1:\n",
        "Vamos a trabajar con el archivo Employee Attrition.csv.\n",
        "Lo primero que hacemos es definir una función que abra el archivo desde el entorno local.\n"
      ],
      "metadata": {
        "id": "IdH-ElTJZUWg"
      }
    },
    {
      "cell_type": "code",
      "source": [
        "import pandas as pd\n",
        "\n",
        "def abri_archivo():\n",
        "    \"\"\"\n",
        "    Este método abre el archivo CSV con pandas.\n",
        "\n",
        "    Args:\n",
        "        No recibe argumentos.\n",
        "\n",
        "    Returns:\n",
        "        Retorna un manejador de archivo abierto (file handler) con el encabezado ya saltado.\n",
        "    \"\"\"\n",
        "    # Abrir un archivo con open() y close()\n",
        "\n",
        "    file_handler = pd.read_csv('/content/Employee Attrition.csv')\n",
        "\n",
        "    return file_handler"
      ],
      "metadata": {
        "id": "eNKqSNAkaDoa"
      },
      "execution_count": 36,
      "outputs": []
    },
    {
      "cell_type": "markdown",
      "source": [
        "### Paso 2:\n",
        "Llamamos a la funcion paraabrir el archivos.\n",
        "Luego llamamos a la funcion head para ver los primeros registros del archivo."
      ],
      "metadata": {
        "id": "_QKXJLn2aTrn"
      }
    },
    {
      "cell_type": "code",
      "source": [
        "# Llamamos a la funcion para abrir el archivo\n",
        "employee = abri_archivo()\n",
        "\n",
        "# Crear el archivo Excel en modo escritura. En el mismo vamos a agregar los 6 ejercicios. Agregamos sus librerias\n",
        "!pip install XlsxWriter\n",
        "writer = pd.ExcelWriter('resultados_reto.xlsx', engine='xlsxwriter')\n"
      ],
      "metadata": {
        "colab": {
          "base_uri": "https://localhost:8080/"
        },
        "id": "De2PE9bPTKuA",
        "outputId": "84755175-af45-457c-93b5-f04ff2614e54"
      },
      "execution_count": 37,
      "outputs": [
        {
          "output_type": "stream",
          "name": "stdout",
          "text": [
            "Requirement already satisfied: XlsxWriter in /usr/local/lib/python3.11/dist-packages (3.2.3)\n"
          ]
        }
      ]
    },
    {
      "cell_type": "markdown",
      "source": [
        "## Ejercicio 1\n",
        "\n",
        "El tiempo de servicio promedio de los trabajadores. La columna a analizar es 'Time_of_service'"
      ],
      "metadata": {
        "id": "64ReNrtFmFyN"
      }
    },
    {
      "cell_type": "code",
      "source": [
        "#  Sacamos el promedio por medio de la columna Time_of_service\n",
        "df_promedio = employee['Time_of_service'].mean()\n",
        "print(\"El tiempo promedio de servicio de los trabajadores es:\", round(df_promedio, 2))\n",
        "\n",
        "# Crear un DataFrame para guardar el promedio\n",
        "df_ejercicio_1 = pd.DataFrame({'Promedio Tiempo de Servicio': [round(df_promedio, 2)]})\n",
        "\n",
        "# Guardar en Excel\n",
        "df_ejercicio_1.to_excel(writer, sheet_name='Ejercicio_1', index=False)\n",
        "\n"
      ],
      "metadata": {
        "colab": {
          "base_uri": "https://localhost:8080/"
        },
        "id": "slODoi93mISn",
        "outputId": "b0e8e2fa-6458-48e3-d13c-0e8333838c35"
      },
      "execution_count": 38,
      "outputs": [
        {
          "output_type": "stream",
          "name": "stdout",
          "text": [
            "El tiempo promedio de servicio de los trabajadores es: 13.4\n"
          ]
        }
      ]
    },
    {
      "cell_type": "markdown",
      "source": [
        "## Ejercicios 2\n",
        "El porcentaje de hombres y mujeres en el archivo"
      ],
      "metadata": {
        "id": "K2gmHGT1qSc1"
      }
    },
    {
      "cell_type": "code",
      "source": [
        "# Agrupar y contar\n",
        "gender = employee['Gender'].value_counts()\n",
        "\n",
        "# Convertir a DataFrame\n",
        "df_ejercicio_2 = gender.reset_index()\n",
        "df_ejercicio_2.columns = ['Gender', 'Cantidad']\n",
        "\n",
        "# Ahora sacmos los valores de cada uno de ellos y los sumammos.\n",
        "femenino = gender.get('F', 0)\n",
        "masculino = gender.get('M', 0)\n",
        "total = femenino + masculino\n",
        "\n",
        "# Ahora sacamos los porcentajes\n",
        "print(f\"Porcentaje de Mujeres: {round(femenino / total * 100, 4)} %\")\n",
        "print(f\"Porcentaje de Hombres: {round(masculino / total * 100, 4)} %\")\n",
        "\n",
        "# Agregar columna de porcentaje\n",
        "df_ejercicio_2['Porcentaje'] = round((df_ejercicio_2['Cantidad'] / total) * 100, 2)\n",
        "\n",
        "# Guardamos el DataFrame en un archivo Excel\n",
        "df_ejercicio_2.to_excel(writer, sheet_name='Ejercicio_2', index=False)\n"
      ],
      "metadata": {
        "colab": {
          "base_uri": "https://localhost:8080/"
        },
        "id": "FfJZPTSWqXHC",
        "outputId": "24788687-5e80-4fe0-8b30-371771b2dd16"
      },
      "execution_count": 39,
      "outputs": [
        {
          "output_type": "stream",
          "name": "stdout",
          "text": [
            "Porcentaje de Mujeres: 57.6 %\n",
            "Porcentaje de Hombres: 42.4 %\n"
          ]
        }
      ]
    },
    {
      "cell_type": "markdown",
      "source": [
        "## Ejercicio 3\n",
        "\n",
        "El tiempo máximo sin promoción de las personas que llevan más de 15 años de servicio"
      ],
      "metadata": {
        "id": "as_FnVL9xlK3"
      }
    },
    {
      "cell_type": "code",
      "source": [
        "df_times_service = employee[employee['Time_of_service'] > 15]\n",
        "maximo = df_times_service ['Time_since_promotion'].max()\n",
        "print (\"El tiempo máximo sin promoción de las personas que llevan más de 15 años de servicio es de: \", maximo)\n",
        "\n",
        "# Crear un DataFrame para guardar el promedio\n",
        "df_ejercicio_3 = pd.DataFrame({\n",
        "    'El tiempo máximo sin promoción de las personas que llevan más de 15 años de servicio es de:': [maximo]\n",
        "})\n",
        "\n",
        "# Guardamos el resultado en el archivo Excel\n",
        "df_ejercicio_3.to_excel(writer, sheet_name='Ejercicio_3', index=False)"
      ],
      "metadata": {
        "colab": {
          "base_uri": "https://localhost:8080/"
        },
        "id": "8QqiP-fKxnu4",
        "outputId": "b1ee0b52-dc0f-4e37-bfa9-296902da7eac"
      },
      "execution_count": 40,
      "outputs": [
        {
          "output_type": "stream",
          "name": "stdout",
          "text": [
            "El tiempo máximo sin promoción de las personas que llevan más de 15 años de servicio es de:  4\n"
          ]
        }
      ]
    },
    {
      "cell_type": "markdown",
      "source": [
        "## Ejercicio 4\n",
        "La edad promedio en la que ingresaron las personas a la empresa, genera una columna derivada mediante la formula Age - Time_of_service"
      ],
      "metadata": {
        "id": "yzXe3mP8EDK7"
      }
    },
    {
      "cell_type": "code",
      "source": [
        "# creamos la nueva columna llamada \"edad_ingreso\" y la agregamos la diferencia\n",
        "employee['edad_ingreso'] = employee['Age'] - employee['Time_of_service']\n",
        "\n",
        "# Guardamos la nueva columna con el ID del empleado como resultado en el archivo Excel\n",
        "df_ejercicio_4 = employee[['Employee_ID', 'edad_ingreso']]\n",
        "df_ejercicio_4.to_excel(writer, sheet_name='Ejercicio_4', index=False)\n",
        "\n",
        "#Imprimimos el resultado\n",
        "print(\"La edad promedio en la que ingresaron las personas a la empresa es de \", round(employee ['edad_ingreso'].mean(), 2))\n",
        "\n"
      ],
      "metadata": {
        "colab": {
          "base_uri": "https://localhost:8080/"
        },
        "id": "8LwoEfNNC3BH",
        "outputId": "95ac2858-5e30-415c-fb79-b42fe505335d"
      },
      "execution_count": 41,
      "outputs": [
        {
          "output_type": "stream",
          "name": "stdout",
          "text": [
            "La edad promedio en la que ingresaron las personas a la empresa es de  26.39\n"
          ]
        }
      ]
    },
    {
      "cell_type": "markdown",
      "source": [
        "## Ejercicio 5:\n",
        "Un dataframe con las columnas Employee_ID, Relationship, Decision_skill_process que sólo contenga los registros de mujeres, solteras y con compensación tipo 2 o 3."
      ],
      "metadata": {
        "id": "HZoxobL2H1zg"
      }
    },
    {
      "cell_type": "code",
      "source": [
        "df_ejercicio_5 = employee[\n",
        "    (employee['Gender'] == 'F') &\n",
        "    (employee['Relationship_Status'] == 'Single') &\n",
        "    ((employee['Compensation_and_Benefits'] == 'type2') | (employee['Compensation_and_Benefits'] == 'type3'))\n",
        "].dropna(subset=['Gender', 'Relationship_Status', 'Compensation_and_Benefits'])\n",
        "\n",
        "df_ejercicio_5.to_excel(writer, sheet_name='Ejercicio_5', index=False)\n",
        "\n"
      ],
      "metadata": {
        "id": "edbIetp7H_5E"
      },
      "execution_count": 42,
      "outputs": []
    },
    {
      "cell_type": "markdown",
      "source": [
        "## Ejercicio 6:\n",
        "Una columna derivada con el valor “on time” si cuando tuvo su última promoción tenía menos de 30 años. En caso contrario colocar el valor “out of time”"
      ],
      "metadata": {
        "id": "OhyX9kwwK-Sc"
      }
    },
    {
      "cell_type": "code",
      "source": [
        "import numpy as np\n",
        "\n",
        "# Creamos la nueva columna 'on_time'\n",
        "employee['on_time'] = np.where((employee['Age'] - employee['Time_since_promotion']) > 30, 'on_time', 'out_time')\n",
        "\n",
        "# Guardamos la nueva columna con el ID del empleado como resultado en el archivo Excel\n",
        "df_ejercicio_6 = employee[['Employee_ID', 'on_time']]\n",
        "\n",
        "# Guardamos en la hoja Ejercicio_6 del archivo Excel\n",
        "df_ejercicio_6.to_excel(writer, sheet_name='Ejercicio_6', index=False)\n"
      ],
      "metadata": {
        "id": "crHh8kp7LGND"
      },
      "execution_count": 43,
      "outputs": []
    },
    {
      "cell_type": "code",
      "source": [
        "# cerramos el archivo\n",
        "writer.close()"
      ],
      "metadata": {
        "id": "bRjw0PDpEtYk"
      },
      "execution_count": 44,
      "outputs": []
    }
  ]
}